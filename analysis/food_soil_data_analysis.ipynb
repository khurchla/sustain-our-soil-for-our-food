{
 "cells": [
  {
   "cell_type": "markdown",
   "id": "d402f980",
   "metadata": {},
   "source": [
    "# SOIL & FOOD DATA - So what and what now?\n",
    "\n",
    "## Data Sources\n",
    "\n",
    "- **The Global Soil Dataset for Earth System Modeling** Soil Organic Carbon Density dataset at 5 minute resolution\n",
    "    - Land-Atmosphere Interaction Research Group at Sun Yat-sen University\n",
    "        - http://globalchange.bnu.edu.cn/research/soilwd.jsp\n",
    "- **FAOSTAT** Trade: Crops and livestock products | Trade: Detailed trade matrix | Production: Crops and livestock products\n",
    "    - Food and Agriculture Organization of the United Nations\n",
    "        - https://www.fao.org/faostat/en/#data/TCL\n",
    "        - https://www.fao.org/faostat/en/#data/TM\n",
    "        - https://www.fao.org/faostat/en/#data/QCL\n",
    "        \n",
    "## Non-geographical Plotting\n",
    "\n",
    "I'll pull in the dataset I already prepared of Soil Organic Carbon Density, and I'll load the food production and trade datasets to work together with those."
   ]
  },
  {
   "cell_type": "code",
   "execution_count": null,
   "id": "f83c9702",
   "metadata": {},
   "outputs": [],
   "source": [
    "# # view plots inside the notebook\n",
    "# %matplotlib inline  \n",
    "# import package dependencies for environment\n",
    "import numpy as np\n",
    "import pandas as pd\n",
    "# import matplotlib.pyplot as plt\n",
    "import plotly.offline as pyo\n",
    "# Set notebook mode to work in offline\n",
    "pyo.init_notebook_mode()\n",
    "import plotly.io as pio\n",
    "import plotly.figure_factory as ff\n",
    "import plotly.express as px\n",
    "import plotly.graph_objects as go # or plotly.express as px\n",
    "import geopandas"
   ]
  },
  {
   "cell_type": "code",
   "execution_count": null,
   "id": "684b21fb",
   "metadata": {},
   "outputs": [],
   "source": [
    "# load the cached variables from earlier SOCD analysis\n",
    "%store -r gdf2flat\n",
    "%store -r depths"
   ]
  },
  {
   "cell_type": "code",
   "execution_count": null,
   "id": "f7b60d34",
   "metadata": {},
   "outputs": [],
   "source": [
    "# group by depth and count group records with pandas\n",
    "gdf2flat.groupby('depth').count()\n",
    "# shows that there are not records for all depths at all locations; \n",
    "# with the first depth containing the most"
   ]
  },
  {
   "cell_type": "code",
   "execution_count": null,
   "id": "c8e20bc4",
   "metadata": {},
   "outputs": [],
   "source": [
    "# take only the 4.5 depth records\n",
    "gdf2flatsurface = gdf2flat[gdf2flat['depth'] == 4.5]"
   ]
  },
  {
   "cell_type": "code",
   "execution_count": null,
   "id": "60ad797c",
   "metadata": {},
   "outputs": [],
   "source": [
    "# is the count the same as the group done earlier for this depth?\n",
    "gdf2flatsurface['index'].count()"
   ]
  },
  {
   "cell_type": "code",
   "execution_count": null,
   "id": "70c8d8cf",
   "metadata": {},
   "outputs": [],
   "source": [
    "# groupby depth with plotly.io based on example here: https://plotly.com/python/group-by/\n",
    "# as a test, I'm not really clear what this is showing,\n",
    "# or if I need to iterate over the records still, e.g. to show a mean\n",
    "# depths contains array([  4.5       ,   9.10000038,  16.60000038,  28.89999962,\n",
    "#         49.29999924,  82.90000153, 138.30000305, 229.6000061 ])\n",
    "\n",
    "depth = depths\n",
    "SOCD = gdf2flat['SOCD']\n",
    "\n",
    "data = [dict(\n",
    "  type = 'scatter',\n",
    "  x = depth,\n",
    "  y = SOCD,\n",
    "  mode = 'markers',\n",
    "  markersize = 5,\n",
    "  transforms = [dict(\n",
    "    type = 'groupby',\n",
    "    groups = depths,\n",
    "    styles = [\n",
    "        dict(target =    4.5       , value = dict(marker = dict(color = 'Set1[1]'))),\n",
    "        dict(target =    9.10000038, value = dict(marker = dict(color = 'Set1[2]'))),\n",
    "        dict(target =   16.60000038, value = dict(marker = dict(color = 'Set1[3]'))),\n",
    "        dict(target =   28.89999962, value = dict(marker = dict(color = 'Set1[4]'))),\n",
    "        dict(target =   49.29999924, value = dict(marker = dict(color = 'Set1[5]'))),\n",
    "        dict(target =   82.90000153, value = dict(marker = dict(color = 'Set1[6]'))),\n",
    "        dict(target =  138.30000305, value = dict(marker = dict(color = 'Set1[7]'))),\n",
    "        dict(target =  229.6000061 , value = dict(marker = dict(color = 'Set1[8]'))),\n",
    "    ]\n",
    "  )]\n",
    ")]\n",
    "\n",
    "fig_dict = dict(data=data)\n",
    "pio.show(fig_dict, validate=False)"
   ]
  },
  {
   "cell_type": "code",
   "execution_count": null,
   "id": "5357d952",
   "metadata": {},
   "outputs": [],
   "source": [
    "# check my working directory\n",
    "!pwd"
   ]
  },
  {
   "cell_type": "code",
   "execution_count": null,
   "id": "c570c378",
   "metadata": {},
   "outputs": [],
   "source": [
    "# look for the file path of the trade file\n",
    "!ls ../data"
   ]
  },
  {
   "cell_type": "code",
   "execution_count": null,
   "id": "3449f661",
   "metadata": {},
   "outputs": [],
   "source": [
    "# check the file name of trade file\n",
    "!ls ../data/Trade_CropsLivestock_E_All_Data_(Normalized)/Trade_Crops_Livestock_E_All_Data_(Normalized).csv"
   ]
  },
  {
   "cell_type": "code",
   "execution_count": null,
   "id": "69cf76fd",
   "metadata": {},
   "outputs": [],
   "source": [
    "# load in the food trade data from git repository origin directory\n",
    "# dftrade = pd.read_csv('../data/Trade_CropsLivestock_E_All_Data_(Normalized)/Trade_Crops_Livestock_E_All_Data_(Normalized).csv')"
   ]
  },
  {
   "cell_type": "code",
   "execution_count": null,
   "id": "8b1d4617",
   "metadata": {},
   "outputs": [],
   "source": [
    "# view top of the dataframe\n",
    "# dftrade.head()\n",
    "# unfortunately my git lfs large file storage was shut down and is no longer showing file\n",
    "# until I can correct that or take the repository off line, I will try to load the file from elsewhere"
   ]
  },
  {
   "cell_type": "code",
   "execution_count": null,
   "id": "b0f82822",
   "metadata": {},
   "outputs": [],
   "source": [
    "!ls /Users/kathrynhurchla/Documents/hack_mylfs_GitHub_projects"
   ]
  },
  {
   "cell_type": "code",
   "execution_count": null,
   "id": "00439668",
   "metadata": {},
   "outputs": [],
   "source": [
    "# load in the food trade data copy freshly downloaded from an alternate directory\n",
    "# adding , encoding = \"ISO-8859-1\" to resolve \"UnicodeDecodeError: 'utf-8' codec can't decode byte 0xe9 in position 158927: invalid continuation byte\"\n",
    "# alternately use the alias 'latin' for encoding\n",
    "dftrade = pd.read_csv('/Users/kathrynhurchla/Documents/hack_mylfs_GitHub_projects/Trade_Crops_Livestock_E_All_Data_(Normalized).csv', encoding = \"ISO-8859-1\")"
   ]
  },
  {
   "cell_type": "code",
   "execution_count": null,
   "id": "cf2559dc",
   "metadata": {},
   "outputs": [],
   "source": [
    "# view a sample top/bottom of the dataframe\n",
    "dftrade"
   ]
  },
  {
   "cell_type": "code",
   "execution_count": null,
   "id": "4a55a521",
   "metadata": {},
   "outputs": [],
   "source": [
    "dftrade.columns"
   ]
  },
  {
   "cell_type": "code",
   "execution_count": null,
   "id": "53f102cb",
   "metadata": {},
   "outputs": [],
   "source": [
    "# but ideally what I want is to see which country exports to which country, in pairs in a record\n",
    "# load in the food trade detailed matrix copy freshly downloaded from https://www.fao.org/faostat/en/#data/TM to an alternate directory\n",
    "# adding , encoding = \"ISO-8859-1\" to resolve \"UnicodeDecodeError: 'utf-8' codec can't decode byte 0xf4 in position 38698: invalid continuation byte\"\n",
    "# alternately use the alias 'latin' for encoding\n",
    "dftrade_mx = pd.read_csv('/Users/kathrynhurchla/Documents/hack_mylfs_GitHub_projects/Trade_DetailedTradeMatrix_E_All_Data_(Normalized).csv', encoding = \"ISO-8859-1\")\n",
    "dftrade_mx"
   ]
  },
  {
   "cell_type": "code",
   "execution_count": null,
   "id": "67df7bec",
   "metadata": {},
   "outputs": [],
   "source": [
    "# view a unique list of the element codes/elements\n",
    "# The input to this function needs to be one-dimensional, so multiple columns will need to be combined.\n",
    "# select the values and then view them in a flattened numpy array\n",
    "pd.unique(dftrade_mx[['Element Code','Element']].values.ravel('K'))"
   ]
  },
  {
   "cell_type": "code",
   "execution_count": null,
   "id": "1f96059b",
   "metadata": {},
   "outputs": [],
   "source": [
    "# find the value of Element Code for Export elements\n",
    "print(str('Export Quantity = Element Code: '))\n",
    "print(dftrade_mx.loc[dftrade_mx['Element'] == 'Export Quantity', 'Element Code'].iloc[0])"
   ]
  },
  {
   "cell_type": "code",
   "execution_count": null,
   "id": "4158996e",
   "metadata": {},
   "outputs": [],
   "source": [
    "# view the unique combination of area and area codes\n",
    "# where 'Area Code' in table is referred to as Country Code (and/or Country Group Code for 5100+) in the Definitions and standards \n",
    "# on FAO website at https://www.fao.org/faostat/en/#data/QCL\n",
    "# see the last records which are groupings of countries\n",
    "# note FAO provides downloadable key file of this Country Code with ISO2, ISO3, and M49 codes for each country\n",
    "# if I need it for any linkage\n",
    "dftrade_mx.groupby(['Reporter Country Code','Reporter Countries']).size()"
   ]
  },
  {
   "cell_type": "code",
   "execution_count": null,
   "id": "d6bc63b9",
   "metadata": {},
   "outputs": [],
   "source": [
    "# filter for just the 'Export  Quantity' rows by its element code identified earlier\n",
    "dftrade_mx_xq = dftrade_mx[dftrade_mx['Element Code'] == 5910]\n",
    "dftrade_mx_xq"
   ]
  },
  {
   "cell_type": "markdown",
   "id": "a25841d9",
   "metadata": {},
   "source": [
    "### Plot food export partners matrix\n",
    "\n",
    "Now that I have a dataset showing where food comes from and where it's exported to, see if I can show this visually."
   ]
  },
  {
   "cell_type": "code",
   "execution_count": null,
   "id": "2feba76f",
   "metadata": {},
   "outputs": [],
   "source": [
    "# using Plotly Graph Objects (go), plot lines on a map\n",
    "# based on an example at https://plotly.com/python/lines-on-maps/\n",
    "# world scope with locations by country names (collect an ISO-3 if names doesn't work well, i.e. gaps)\n",
    "# dftrade_mx_xq for paths\n",
    "# see for projection_type options: https://plotly.com/python/reference/layout/geo/#layout-geo-projection-type\n",
    "\n",
    "# fig = go.Figure()\n",
    "\n",
    "# fig.add_trace(go.Scattergeo(\n",
    "#     locationmode = 'country names',\n",
    "#     locations = dftrade_mx_xq['Reporter Countries'],\n",
    "#     hoverinfo = 'text',\n",
    "# #     # string concatenation in pandas for hover text\n",
    "# #     # also a <br> within quotes can put that data on a new line in the hover text optionally\n",
    "# #     text = dftrade_mx_xq['Reporter Countries'].astype(str) + \" exported \" +  dftrade_mx_xq[\"Value\"].astype(str) + \" \" + dftrade_mx_xq[\"Unit\"].astype(str) + \" of \" + dftrade_mx_xq[\"Item\"].astype(str) + \" to \" + dftrade_mx_xq[\"Partner Countries\"].astype(str) + \" in \" + dftrade_mx_xq[\"Year\"].astype(str),\n",
    "#     text = dftrade_mx_xq[\"Item\"]\n",
    "#     mode = 'markers',\n",
    "#     marker = dict(\n",
    "#         size = 2,\n",
    "#         color = 'rgb(255, 0, 0)',\n",
    "#         line = dict(\n",
    "#             width = 3,\n",
    "#             color = 'rgba(68, 68, 68, 0)'\n",
    "#         )\n",
    "#     )))\n",
    "\n",
    "# fig.add_trace(\n",
    "#     go.Scattergeo(\n",
    "#         locationmode = 'country names',\n",
    "# #         hoverinfo = 'text',\n",
    "# #         text = dftrade_mx_xq['Item'],\n",
    "#         mode = 'lines',\n",
    "#         line = dict(width = 1,color = 'red'),\n",
    "#         opacity = 0.5\n",
    "#     )\n",
    "# )\n",
    "\n",
    "# fig.update_layout(\n",
    "#     title_text = 'Food Trade<br>(Hover for item exported)',\n",
    "#     showlegend = False,\n",
    "#     geo = go.layout.Geo(\n",
    "#         scope = 'world',\n",
    "#         projection_type = 'winkel tripel',\n",
    "#         showland = True,\n",
    "#         landcolor = 'rgb(243, 243, 243)',\n",
    "#         countrycolor = 'rgb(204, 204, 204)',\n",
    "#     ),\n",
    "#     height=700,\n",
    "# )\n",
    "\n",
    "# fig.show()"
   ]
  },
  {
   "cell_type": "code",
   "execution_count": null,
   "id": "c7388489",
   "metadata": {},
   "outputs": [],
   "source": []
  }
 ],
 "metadata": {
  "kernelspec": {
   "display_name": "envsoil",
   "language": "python",
   "name": "envsoil"
  },
  "language_info": {
   "codemirror_mode": {
    "name": "ipython",
    "version": 3
   },
   "file_extension": ".py",
   "mimetype": "text/x-python",
   "name": "python",
   "nbconvert_exporter": "python",
   "pygments_lexer": "ipython3",
   "version": "3.9.7"
  }
 },
 "nbformat": 4,
 "nbformat_minor": 5
}
