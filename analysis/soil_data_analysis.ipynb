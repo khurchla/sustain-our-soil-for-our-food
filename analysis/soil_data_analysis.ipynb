{
 "cells": [
  {
   "cell_type": "markdown",
   "id": "88d385fd",
   "metadata": {},
   "source": [
    "# SOIL DATA - Troubles finding what to use?!\n",
    "\n",
    "- SSURGO is more detail can I can work with in the timeframe I need it\n",
    "    - USDA NRCS \n",
    "        - https://sdmdataaccess.nrcs.usda.gov/Default.aspx\n",
    "- STATSGO may be too limiting\n",
    "    - USDA NRCS (shares tables in data source as above)\n",
    "- How about The Global Soil Dataset for Earth System Modeling\n",
    "    - Land-Atmosphere Interaction Research Group at Sun Yat-sen University\n",
    "        - http://globalchange.bnu.edu.cn/research/soilwd.jsp"
   ]
  },
  {
   "cell_type": "markdown",
   "id": "0fba94f0",
   "metadata": {},
   "source": [
    "## Explore Soil Organic Carbon Density in The Global Soil Dataset\n",
    "\n",
    "_I've already done quite a bit of noodling around the USDA data in other notebooks so I'll take a look at whether this one will fit my needs better (and my timeframe and level of pre-aggregation and simplification desired)._\n",
    "\n",
    "### Load the NetCDF \n",
    "\n",
    "Network common data form (NetCDF) is commonly used to store multidimensional geographic data, and especially common with geographic time series data. I'll load the 5 minute geospatial resolution version of the Soil organic carbon density (SOCD5min.zip) NetCDF file in after downloading it from The Global Soil Dataset."
   ]
  },
  {
   "cell_type": "code",
   "execution_count": 69,
   "id": "55756ebe",
   "metadata": {},
   "outputs": [],
   "source": [
    "# if xarray is not yet installed, uncomment and run one of the following lines (either/or), \n",
    "# which only need to be run once\n",
    "# !pip install xarray\n",
    "# I probably should have used conda because my virtual envelope is maintained with conda, so if I run into problems I will uninstall with pip and reinstall with conda\n",
    "# !conda install xarray "
   ]
  },
  {
   "cell_type": "code",
   "execution_count": 3,
   "id": "28f82943",
   "metadata": {},
   "outputs": [],
   "source": [
    "# import package dependencies for environment\n",
    "import netCDF4 as nc\n",
    "import xarray as xr\n",
    "import numpy as np\n",
    "import pandas as pd\n",
    "import matplotlib.pyplot as plt\n",
    "import geopandas"
   ]
  },
  {
   "cell_type": "code",
   "execution_count": 4,
   "id": "c18533be",
   "metadata": {},
   "outputs": [
    {
     "name": "stdout",
     "output_type": "stream",
     "text": [
      "/Users/kathrynhurchla/Documents/GitHub/sustain-our-soil-for-our-food/analysis\r\n"
     ]
    }
   ],
   "source": [
    "# check working directory using Shell command in IPython syntax preceded by '!'\n",
    "!pwd"
   ]
  },
  {
   "cell_type": "code",
   "execution_count": 5,
   "id": "1a654953",
   "metadata": {},
   "outputs": [
    {
     "name": "stdout",
     "output_type": "stream",
     "text": [
      "soil_data_analysis.ipynb           soil_data_analysis_SSURGO.html\r\n",
      "soil_data_analysis_SSURGO.R        soil_data_analysis_STATSGO.Rmd\r\n",
      "soil_data_analysis_SSURGO.Rmd      soil_data_analysis_STATSGO.nb.html\r\n"
     ]
    }
   ],
   "source": [
    "# list directory contents\n",
    "!ls"
   ]
  },
  {
   "cell_type": "code",
   "execution_count": 6,
   "id": "1290467f",
   "metadata": {},
   "outputs": [
    {
     "name": "stdout",
     "output_type": "stream",
     "text": [
      "LICENSE\r\n",
      "README.md\r\n",
      "Style_Tile_soil_health_and_climate_change.ai\r\n",
      "\u001b[34manalysis\u001b[m\u001b[m\r\n",
      "\u001b[34mdata\u001b[m\u001b[m\r\n",
      "\u001b[34mdocs\u001b[m\u001b[m\r\n",
      "environment.yml\r\n",
      "\u001b[34mimg\u001b[m\u001b[m\r\n",
      "\u001b[34moutput\u001b[m\u001b[m\r\n",
      "\u001b[34mresearch\u001b[m\u001b[m\r\n"
     ]
    }
   ],
   "source": [
    "# can I see my data folder in the root directory of my project \n",
    "# (i.e. in the parent of current analysis/notebooks folder working directory)?\n",
    "#!echo ../*/ #alternately\n",
    "!ls .."
   ]
  },
  {
   "cell_type": "code",
   "execution_count": 8,
   "id": "d4ffea61",
   "metadata": {},
   "outputs": [
    {
     "name": "stdout",
     "output_type": "stream",
     "text": [
      "\u001b[34mProduction_Crops_Livestock_E_All_Data_(Normalized)\u001b[m\u001b[m\r\n",
      "Production_Crops_Livestock_E_All_Data_(Normalized).zip\r\n",
      "SOCD5min.nc\r\n",
      "SOCD5min.zip\r\n",
      "\u001b[34mTrade_CropsLivestock_E_All_Data_(Normalized)\u001b[m\u001b[m\r\n",
      "Trade_CropsLivestock_E_All_Data_(Normalized).zip\r\n",
      "USDA_Soil_Data_Access_Table_Relationships.csv\r\n",
      "ipcc_efdb_cat3B2_CH4_CO2_N2O_output.xls\r\n",
      "ipcc_efdb_cat3_CH4_CO2_N2O_output.xls\r\n"
     ]
    }
   ],
   "source": [
    "# now can I see the files in my data folder?\n",
    "!ls ../data"
   ]
  },
  {
   "cell_type": "code",
   "execution_count": 9,
   "id": "94fe973a",
   "metadata": {},
   "outputs": [
    {
     "name": "stdout",
     "output_type": "stream",
     "text": [
      "<class 'netCDF4._netCDF4.Dataset'>\n",
      "root group (NETCDF3_CLASSIC data model, file format NETCDF3):\n",
      "    Conventions: CF-1.0\n",
      "    dimensions(sizes): lon(4320), lat(1680), depth(8)\n",
      "    variables(dimensions): float32 lon(lon), float32 lat(lat), float32 depth(depth), int16 SOCD(depth, lat, lon)\n",
      "    groups: \n"
     ]
    }
   ],
   "source": [
    "# Great! Now I've checked and copied the filename from right here in my Notebook!\n",
    "# load NetCDF .nc file using the netcdf4 package (note can also be done using gdal package)\n",
    "fn = '../data/SOCD5min.nc' # relative path to netcdf file\n",
    "ds = nc.Dataset(fn) # read as netcdf dataset\n",
    "# view info about the variables\n",
    "print(ds)\n",
    "# print(ds.__dict__) #alternately print metadata as a Python dictionary"
   ]
  },
  {
   "cell_type": "code",
   "execution_count": 10,
   "id": "f008ba1e",
   "metadata": {},
   "outputs": [
    {
     "name": "stdout",
     "output_type": "stream",
     "text": [
      "<class 'netCDF4._netCDF4.Variable'>\n",
      "int16 SOCD(depth, lat, lon)\n",
      "    missing_value: -999\n",
      "    units: t/ha\n",
      "    long_name: soil organic carban density\n",
      "unlimited dimensions: \n",
      "current shape = (8, 1680, 4320)\n",
      "filling on, default _FillValue of -32767 used\n"
     ]
    }
   ],
   "source": [
    "# access information about the single specific variable metadata (that is not a dimension) \n",
    "# SOCD is Soil Organic Carbon Density\n",
    "# measured and recorded in t/ha (tonnes per hectare)\n",
    "print(ds['SOCD'])"
   ]
  },
  {
   "cell_type": "code",
   "execution_count": 11,
   "id": "2797518b",
   "metadata": {},
   "outputs": [
    {
     "name": "stdout",
     "output_type": "stream",
     "text": [
      "{'lon': <class 'netCDF4._netCDF4.Dimension'>: name = 'lon', size = 4320, 'lat': <class 'netCDF4._netCDF4.Dimension'>: name = 'lat', size = 1680, 'depth': <class 'netCDF4._netCDF4.Dimension'>: name = 'depth', size = 8}\n"
     ]
    }
   ],
   "source": [
    "# just print dimensions as a python dictionary\n",
    "print(ds.dimensions)"
   ]
  },
  {
   "cell_type": "code",
   "execution_count": 12,
   "id": "e56ca53a",
   "metadata": {},
   "outputs": [
    {
     "name": "stdout",
     "output_type": "stream",
     "text": [
      "[[[-- -- -- ... -- -- --]\n",
      "  [-- -- -- ... -- -- --]\n",
      "  [-- -- -- ... -- -- --]\n",
      "  ...\n",
      "  [-- -- -- ... -- -- --]\n",
      "  [-- -- -- ... -- -- --]\n",
      "  [-- -- -- ... -- -- --]]\n",
      "\n",
      " [[-- -- -- ... -- -- --]\n",
      "  [-- -- -- ... -- -- --]\n",
      "  [-- -- -- ... -- -- --]\n",
      "  ...\n",
      "  [-- -- -- ... -- -- --]\n",
      "  [-- -- -- ... -- -- --]\n",
      "  [-- -- -- ... -- -- --]]\n",
      "\n",
      " [[-- -- -- ... -- -- --]\n",
      "  [-- -- -- ... -- -- --]\n",
      "  [-- -- -- ... -- -- --]\n",
      "  ...\n",
      "  [-- -- -- ... -- -- --]\n",
      "  [-- -- -- ... -- -- --]\n",
      "  [-- -- -- ... -- -- --]]\n",
      "\n",
      " ...\n",
      "\n",
      " [[-- -- -- ... -- -- --]\n",
      "  [-- -- -- ... -- -- --]\n",
      "  [-- -- -- ... -- -- --]\n",
      "  ...\n",
      "  [-- -- -- ... -- -- --]\n",
      "  [-- -- -- ... -- -- --]\n",
      "  [-- -- -- ... -- -- --]]\n",
      "\n",
      " [[-- -- -- ... -- -- --]\n",
      "  [-- -- -- ... -- -- --]\n",
      "  [-- -- -- ... -- -- --]\n",
      "  ...\n",
      "  [-- -- -- ... -- -- --]\n",
      "  [-- -- -- ... -- -- --]\n",
      "  [-- -- -- ... -- -- --]]\n",
      "\n",
      " [[-- -- -- ... -- -- --]\n",
      "  [-- -- -- ... -- -- --]\n",
      "  [-- -- -- ... -- -- --]\n",
      "  ...\n",
      "  [-- -- -- ... -- -- --]\n",
      "  [-- -- -- ... -- -- --]\n",
      "  [-- -- -- ... -- -- --]]]\n"
     ]
    }
   ],
   "source": [
    "# access the data values just like a numpy array\n",
    "socd = ds['SOCD'][:]\n",
    "print(socd)"
   ]
  },
  {
   "cell_type": "code",
   "execution_count": 13,
   "id": "5ba04b08",
   "metadata": {},
   "outputs": [
    {
     "data": {
      "text/plain": [
       "masked_array(\n",
       "  data=[[[--, --, --, ..., --, --, --],\n",
       "         [--, --, --, ..., --, --, --],\n",
       "         [--, --, --, ..., --, --, --],\n",
       "         ...,\n",
       "         [--, --, --, ..., --, --, --],\n",
       "         [--, --, --, ..., --, --, --],\n",
       "         [--, --, --, ..., --, --, --]],\n",
       "\n",
       "        [[--, --, --, ..., --, --, --],\n",
       "         [--, --, --, ..., --, --, --],\n",
       "         [--, --, --, ..., --, --, --],\n",
       "         ...,\n",
       "         [--, --, --, ..., --, --, --],\n",
       "         [--, --, --, ..., --, --, --],\n",
       "         [--, --, --, ..., --, --, --]],\n",
       "\n",
       "        [[--, --, --, ..., --, --, --],\n",
       "         [--, --, --, ..., --, --, --],\n",
       "         [--, --, --, ..., --, --, --],\n",
       "         ...,\n",
       "         [--, --, --, ..., --, --, --],\n",
       "         [--, --, --, ..., --, --, --],\n",
       "         [--, --, --, ..., --, --, --]],\n",
       "\n",
       "        ...,\n",
       "\n",
       "        [[--, --, --, ..., --, --, --],\n",
       "         [--, --, --, ..., --, --, --],\n",
       "         [--, --, --, ..., --, --, --],\n",
       "         ...,\n",
       "         [--, --, --, ..., --, --, --],\n",
       "         [--, --, --, ..., --, --, --],\n",
       "         [--, --, --, ..., --, --, --]],\n",
       "\n",
       "        [[--, --, --, ..., --, --, --],\n",
       "         [--, --, --, ..., --, --, --],\n",
       "         [--, --, --, ..., --, --, --],\n",
       "         ...,\n",
       "         [--, --, --, ..., --, --, --],\n",
       "         [--, --, --, ..., --, --, --],\n",
       "         [--, --, --, ..., --, --, --]],\n",
       "\n",
       "        [[--, --, --, ..., --, --, --],\n",
       "         [--, --, --, ..., --, --, --],\n",
       "         [--, --, --, ..., --, --, --],\n",
       "         ...,\n",
       "         [--, --, --, ..., --, --, --],\n",
       "         [--, --, --, ..., --, --, --],\n",
       "         [--, --, --, ..., --, --, --]]],\n",
       "  mask=[[[ True,  True,  True, ...,  True,  True,  True],\n",
       "         [ True,  True,  True, ...,  True,  True,  True],\n",
       "         [ True,  True,  True, ...,  True,  True,  True],\n",
       "         ...,\n",
       "         [ True,  True,  True, ...,  True,  True,  True],\n",
       "         [ True,  True,  True, ...,  True,  True,  True],\n",
       "         [ True,  True,  True, ...,  True,  True,  True]],\n",
       "\n",
       "        [[ True,  True,  True, ...,  True,  True,  True],\n",
       "         [ True,  True,  True, ...,  True,  True,  True],\n",
       "         [ True,  True,  True, ...,  True,  True,  True],\n",
       "         ...,\n",
       "         [ True,  True,  True, ...,  True,  True,  True],\n",
       "         [ True,  True,  True, ...,  True,  True,  True],\n",
       "         [ True,  True,  True, ...,  True,  True,  True]],\n",
       "\n",
       "        [[ True,  True,  True, ...,  True,  True,  True],\n",
       "         [ True,  True,  True, ...,  True,  True,  True],\n",
       "         [ True,  True,  True, ...,  True,  True,  True],\n",
       "         ...,\n",
       "         [ True,  True,  True, ...,  True,  True,  True],\n",
       "         [ True,  True,  True, ...,  True,  True,  True],\n",
       "         [ True,  True,  True, ...,  True,  True,  True]],\n",
       "\n",
       "        ...,\n",
       "\n",
       "        [[ True,  True,  True, ...,  True,  True,  True],\n",
       "         [ True,  True,  True, ...,  True,  True,  True],\n",
       "         [ True,  True,  True, ...,  True,  True,  True],\n",
       "         ...,\n",
       "         [ True,  True,  True, ...,  True,  True,  True],\n",
       "         [ True,  True,  True, ...,  True,  True,  True],\n",
       "         [ True,  True,  True, ...,  True,  True,  True]],\n",
       "\n",
       "        [[ True,  True,  True, ...,  True,  True,  True],\n",
       "         [ True,  True,  True, ...,  True,  True,  True],\n",
       "         [ True,  True,  True, ...,  True,  True,  True],\n",
       "         ...,\n",
       "         [ True,  True,  True, ...,  True,  True,  True],\n",
       "         [ True,  True,  True, ...,  True,  True,  True],\n",
       "         [ True,  True,  True, ...,  True,  True,  True]],\n",
       "\n",
       "        [[ True,  True,  True, ...,  True,  True,  True],\n",
       "         [ True,  True,  True, ...,  True,  True,  True],\n",
       "         [ True,  True,  True, ...,  True,  True,  True],\n",
       "         ...,\n",
       "         [ True,  True,  True, ...,  True,  True,  True],\n",
       "         [ True,  True,  True, ...,  True,  True,  True],\n",
       "         [ True,  True,  True, ...,  True,  True,  True]]],\n",
       "  fill_value=-999,\n",
       "  dtype=int16)"
      ]
     },
     "execution_count": 13,
     "metadata": {},
     "output_type": "execute_result"
    }
   ],
   "source": [
    "socd"
   ]
  },
  {
   "cell_type": "markdown",
   "id": "c9775875",
   "metadata": {},
   "source": [
    "### Need to get this in a more workable format\n",
    "\n",
    "I'll try to understand this data format more.\n",
    "Ultimately I want to transform it into a Pandas dataframe."
   ]
  },
  {
   "cell_type": "code",
   "execution_count": 14,
   "id": "591d05b3",
   "metadata": {},
   "outputs": [
    {
     "data": {
      "text/plain": [
       "numpy.ma.core.MaskedArray"
      ]
     },
     "execution_count": 14,
     "metadata": {},
     "output_type": "execute_result"
    }
   ],
   "source": [
    "# check the type of the new named variable socd\n",
    "type(socd)"
   ]
  },
  {
   "cell_type": "code",
   "execution_count": 15,
   "id": "a6906bb1",
   "metadata": {},
   "outputs": [
    {
     "data": {
      "text/plain": [
       "(8, 1680, 4320)"
      ]
     },
     "execution_count": 15,
     "metadata": {},
     "output_type": "execute_result"
    }
   ],
   "source": [
    "# see the shape of the array\n",
    "socd.shape"
   ]
  },
  {
   "cell_type": "code",
   "execution_count": 16,
   "id": "35001ed1",
   "metadata": {},
   "outputs": [
    {
     "data": {
      "text/plain": [
       "masked"
      ]
     },
     "execution_count": 16,
     "metadata": {},
     "output_type": "execute_result"
    }
   ],
   "source": [
    "# view an element about midway through\n",
    "socd[0, 1000, 1000]"
   ]
  },
  {
   "cell_type": "code",
   "execution_count": 17,
   "id": "b73e01ac",
   "metadata": {},
   "outputs": [
    {
     "data": {
      "text/plain": [
       "masked"
      ]
     },
     "execution_count": 17,
     "metadata": {},
     "output_type": "execute_result"
    }
   ],
   "source": [
    "# try another\n",
    "socd[0, 0, 0]"
   ]
  },
  {
   "cell_type": "code",
   "execution_count": 18,
   "id": "8a737e00",
   "metadata": {},
   "outputs": [],
   "source": [
    "# get the non-masked data, specifically by removing rows with all masked data\n",
    "# returns invlid syntax error on the axis=1\n",
    "# socd_unmasked_all = socd[~socd.mask.all[axis=1]]"
   ]
  },
  {
   "cell_type": "code",
   "execution_count": 19,
   "id": "4f966503",
   "metadata": {},
   "outputs": [
    {
     "name": "stdout",
     "output_type": "stream",
     "text": [
      "[0 0 0 ... 7 6 0]\n"
     ]
    },
    {
     "data": {
      "text/plain": [
       "(16762449,)"
      ]
     },
     "execution_count": 19,
     "metadata": {},
     "output_type": "execute_result"
    }
   ],
   "source": [
    "# the compressed method will remove masked items, but flattens the result to a 1 dimensional array\n",
    "# so I've lost the location dimensions that way\n",
    "socd_compressed = socd.compressed()\n",
    "print(socd_compressed)\n",
    "socd_compressed.shape"
   ]
  },
  {
   "cell_type": "code",
   "execution_count": 20,
   "id": "baac9e79",
   "metadata": {},
   "outputs": [
    {
     "data": {
      "text/plain": [
       "masked_array(\n",
       "  data=[[--],\n",
       "        [--],\n",
       "        [--],\n",
       "        [--],\n",
       "        [--],\n",
       "        [--],\n",
       "        [--],\n",
       "        [--],\n",
       "        [--],\n",
       "        [--],\n",
       "        [--],\n",
       "        [--],\n",
       "        [--],\n",
       "        [--],\n",
       "        [--],\n",
       "        [--],\n",
       "        [--],\n",
       "        [--],\n",
       "        [--],\n",
       "        [--],\n",
       "        [--],\n",
       "        [--],\n",
       "        [--],\n",
       "        [--],\n",
       "        [--],\n",
       "        [--],\n",
       "        [--],\n",
       "        [--],\n",
       "        [--],\n",
       "        [--],\n",
       "        [--],\n",
       "        [--],\n",
       "        [--],\n",
       "        [--],\n",
       "        [--],\n",
       "        [--],\n",
       "        [--],\n",
       "        [--],\n",
       "        [--],\n",
       "        [--],\n",
       "        [--],\n",
       "        [--],\n",
       "        [--],\n",
       "        [--],\n",
       "        [--],\n",
       "        [--],\n",
       "        [--],\n",
       "        [--],\n",
       "        [--],\n",
       "        [--],\n",
       "        [--],\n",
       "        [--],\n",
       "        [--],\n",
       "        [--],\n",
       "        [--],\n",
       "        [--],\n",
       "        [--],\n",
       "        [--],\n",
       "        [--],\n",
       "        [--],\n",
       "        [--],\n",
       "        [--],\n",
       "        [--],\n",
       "        [--],\n",
       "        [--],\n",
       "        [--],\n",
       "        [--],\n",
       "        [--],\n",
       "        [--],\n",
       "        [--],\n",
       "        [--],\n",
       "        [--],\n",
       "        [--],\n",
       "        [--],\n",
       "        [--],\n",
       "        [--],\n",
       "        [--],\n",
       "        [--],\n",
       "        [--],\n",
       "        [--],\n",
       "        [--],\n",
       "        [--],\n",
       "        [--],\n",
       "        [--],\n",
       "        [--],\n",
       "        [--],\n",
       "        [--],\n",
       "        [--],\n",
       "        [--],\n",
       "        [--],\n",
       "        [--],\n",
       "        [--],\n",
       "        [--],\n",
       "        [--],\n",
       "        [--],\n",
       "        [--],\n",
       "        [--],\n",
       "        [--],\n",
       "        [--],\n",
       "        [--]],\n",
       "  mask=[[ True],\n",
       "        [ True],\n",
       "        [ True],\n",
       "        ...,\n",
       "        [ True],\n",
       "        [ True],\n",
       "        [ True]],\n",
       "  fill_value=-999,\n",
       "  dtype=int16)"
      ]
     },
     "execution_count": 20,
     "metadata": {},
     "output_type": "execute_result"
    }
   ],
   "source": [
    "# reshape the masked array to 2D, to try to make it into a dataframe\n",
    "socd.reshape(-1, 1)"
   ]
  },
  {
   "cell_type": "markdown",
   "id": "dfb19d33",
   "metadata": {},
   "source": [
    "### Halp!! \n",
    "Here's the point where I asked for help. Xarray to the rescue!\n",
    "Thank you Dr. Larry Gray for your consultation that led me to this pivot!"
   ]
  },
  {
   "cell_type": "code",
   "execution_count": 21,
   "id": "82761a66",
   "metadata": {},
   "outputs": [],
   "source": [
    "# use the xarray package instead of netCDF4 to view and process the dataset from here\n",
    "# added to packages import list at top of notebook\n",
    "# read the data file in with xarray instead and assign it to ds variable\n",
    "ds = xr.open_dataset(\"../data/SOCD5min.nc\")\n",
    "# transform it to a dataframe assigned to df variable\n",
    "df = ds.to_dataframe()"
   ]
  },
  {
   "cell_type": "markdown",
   "id": "26c6a1f2",
   "metadata": {},
   "source": [
    "### Yay, no more errors!\n",
    "\n",
    "Now this is what I'm used to data looking like!"
   ]
  },
  {
   "cell_type": "code",
   "execution_count": 22,
   "id": "ee6630ee",
   "metadata": {},
   "outputs": [
    {
     "data": {
      "text/html": [
       "<div>\n",
       "<style scoped>\n",
       "    .dataframe tbody tr th:only-of-type {\n",
       "        vertical-align: middle;\n",
       "    }\n",
       "\n",
       "    .dataframe tbody tr th {\n",
       "        vertical-align: top;\n",
       "    }\n",
       "\n",
       "    .dataframe thead th {\n",
       "        text-align: right;\n",
       "    }\n",
       "</style>\n",
       "<table border=\"1\" class=\"dataframe\">\n",
       "  <thead>\n",
       "    <tr style=\"text-align: right;\">\n",
       "      <th></th>\n",
       "      <th></th>\n",
       "      <th></th>\n",
       "      <th>SOCD</th>\n",
       "    </tr>\n",
       "    <tr>\n",
       "      <th>lon</th>\n",
       "      <th>lat</th>\n",
       "      <th>depth</th>\n",
       "      <th></th>\n",
       "    </tr>\n",
       "  </thead>\n",
       "  <tbody>\n",
       "    <tr>\n",
       "      <th rowspan=\"5\" valign=\"top\">-179.5</th>\n",
       "      <th rowspan=\"5\" valign=\"top\">83.5</th>\n",
       "      <th>4.500000</th>\n",
       "      <td>NaN</td>\n",
       "    </tr>\n",
       "    <tr>\n",
       "      <th>9.100000</th>\n",
       "      <td>NaN</td>\n",
       "    </tr>\n",
       "    <tr>\n",
       "      <th>16.600000</th>\n",
       "      <td>NaN</td>\n",
       "    </tr>\n",
       "    <tr>\n",
       "      <th>28.900000</th>\n",
       "      <td>NaN</td>\n",
       "    </tr>\n",
       "    <tr>\n",
       "      <th>49.299999</th>\n",
       "      <td>NaN</td>\n",
       "    </tr>\n",
       "    <tr>\n",
       "      <th>...</th>\n",
       "      <th>...</th>\n",
       "      <th>...</th>\n",
       "      <td>...</td>\n",
       "    </tr>\n",
       "    <tr>\n",
       "      <th rowspan=\"5\" valign=\"top\">179.5</th>\n",
       "      <th rowspan=\"5\" valign=\"top\">-55.5</th>\n",
       "      <th>28.900000</th>\n",
       "      <td>NaN</td>\n",
       "    </tr>\n",
       "    <tr>\n",
       "      <th>49.299999</th>\n",
       "      <td>NaN</td>\n",
       "    </tr>\n",
       "    <tr>\n",
       "      <th>82.900002</th>\n",
       "      <td>NaN</td>\n",
       "    </tr>\n",
       "    <tr>\n",
       "      <th>138.300003</th>\n",
       "      <td>NaN</td>\n",
       "    </tr>\n",
       "    <tr>\n",
       "      <th>229.600006</th>\n",
       "      <td>NaN</td>\n",
       "    </tr>\n",
       "  </tbody>\n",
       "</table>\n",
       "<p>58060800 rows × 1 columns</p>\n",
       "</div>"
      ],
      "text/plain": [
       "                         SOCD\n",
       "lon    lat   depth           \n",
       "-179.5  83.5 4.500000     NaN\n",
       "             9.100000     NaN\n",
       "             16.600000    NaN\n",
       "             28.900000    NaN\n",
       "             49.299999    NaN\n",
       "...                       ...\n",
       " 179.5 -55.5 28.900000    NaN\n",
       "             49.299999    NaN\n",
       "             82.900002    NaN\n",
       "             138.300003   NaN\n",
       "             229.600006   NaN\n",
       "\n",
       "[58060800 rows x 1 columns]"
      ]
     },
     "execution_count": 22,
     "metadata": {},
     "output_type": "execute_result"
    }
   ],
   "source": [
    "# view the dataframe\n",
    "df"
   ]
  },
  {
   "cell_type": "code",
   "execution_count": 23,
   "id": "1c4262e6",
   "metadata": {},
   "outputs": [
    {
     "data": {
      "text/plain": [
       "lon     lat    depth     \n",
       "-179.5   83.5  4.500000     NaN\n",
       "               9.100000     NaN\n",
       "               16.600000    NaN\n",
       "               28.900000    NaN\n",
       "               49.299999    NaN\n",
       "                             ..\n",
       " 179.5  -55.5  28.900000    NaN\n",
       "               49.299999    NaN\n",
       "               82.900002    NaN\n",
       "               138.300003   NaN\n",
       "               229.600006   NaN\n",
       "Name: SOCD, Length: 58060800, dtype: float32"
      ]
     },
     "execution_count": 23,
     "metadata": {},
     "output_type": "execute_result"
    }
   ],
   "source": [
    "# take a look at the SOCD column\n",
    "# to better understand the index structure\n",
    "df.SOCD"
   ]
  },
  {
   "cell_type": "code",
   "execution_count": 24,
   "id": "e4b02cd8",
   "metadata": {},
   "outputs": [
    {
     "data": {
      "text/plain": [
       "Index(['SOCD'], dtype='object')"
      ]
     },
     "execution_count": 24,
     "metadata": {},
     "output_type": "execute_result"
    }
   ],
   "source": [
    "# view all the column variable names in dataframe\n",
    "df.columns"
   ]
  },
  {
   "cell_type": "code",
   "execution_count": 25,
   "id": "45ac522f",
   "metadata": {},
   "outputs": [
    {
     "data": {
      "text/plain": [
       "MultiIndex([(-179.5,                83.5,                4.5),\n",
       "            (-179.5,                83.5,  9.100000381469727),\n",
       "            (-179.5,                83.5, 16.600000381469727),\n",
       "            (-179.5,                83.5, 28.899999618530273),\n",
       "            (-179.5,                83.5,  49.29999923706055),\n",
       "            (-179.5,                83.5,   82.9000015258789),\n",
       "            (-179.5,                83.5,  138.3000030517578),\n",
       "            (-179.5,                83.5, 229.60000610351562),\n",
       "            (-179.5,    83.4172134399414,                4.5),\n",
       "            (-179.5,    83.4172134399414,  9.100000381469727),\n",
       "            ...\n",
       "            ( 179.5, -55.417213439941406,  138.3000030517578),\n",
       "            ( 179.5, -55.417213439941406, 229.60000610351562),\n",
       "            ( 179.5,               -55.5,                4.5),\n",
       "            ( 179.5,               -55.5,  9.100000381469727),\n",
       "            ( 179.5,               -55.5, 16.600000381469727),\n",
       "            ( 179.5,               -55.5, 28.899999618530273),\n",
       "            ( 179.5,               -55.5,  49.29999923706055),\n",
       "            ( 179.5,               -55.5,   82.9000015258789),\n",
       "            ( 179.5,               -55.5,  138.3000030517578),\n",
       "            ( 179.5,               -55.5, 229.60000610351562)],\n",
       "           names=['lon', 'lat', 'depth'], length=58060800)"
      ]
     },
     "execution_count": 25,
     "metadata": {},
     "output_type": "execute_result"
    }
   ],
   "source": [
    "# view the index\n",
    "df.index"
   ]
  },
  {
   "cell_type": "code",
   "execution_count": 26,
   "id": "850e30b9",
   "metadata": {},
   "outputs": [],
   "source": [
    "# # commented out because it was unnecessary to remove index in order to remove the na values, and\n",
    "# # keep for reference in case I need a different structure to plot something with\n",
    "# # reset the index of the dataframe to remove the hierarchical index structure\n",
    "# df3 = df.reset_index()\n",
    "# # subset by variable name SOCD only the records with SOCD values is na is FALSE, using '~'\n",
    "# df3[~df3.SOCD.isna()]"
   ]
  },
  {
   "cell_type": "code",
   "execution_count": 27,
   "id": "f419270b",
   "metadata": {},
   "outputs": [],
   "source": [
    "# try the subset to remove na values without going through the flattening of the index first\n",
    "# it works without resetting the index\n",
    "df2 = df[~df.SOCD.isna()]"
   ]
  },
  {
   "cell_type": "code",
   "execution_count": 28,
   "id": "1fa1efc4",
   "metadata": {},
   "outputs": [
    {
     "data": {
      "text/html": [
       "<div>\n",
       "<style scoped>\n",
       "    .dataframe tbody tr th:only-of-type {\n",
       "        vertical-align: middle;\n",
       "    }\n",
       "\n",
       "    .dataframe tbody tr th {\n",
       "        vertical-align: top;\n",
       "    }\n",
       "\n",
       "    .dataframe thead th {\n",
       "        text-align: right;\n",
       "    }\n",
       "</style>\n",
       "<table border=\"1\" class=\"dataframe\">\n",
       "  <thead>\n",
       "    <tr style=\"text-align: right;\">\n",
       "      <th></th>\n",
       "      <th></th>\n",
       "      <th></th>\n",
       "      <th>SOCD</th>\n",
       "    </tr>\n",
       "    <tr>\n",
       "      <th>lon</th>\n",
       "      <th>lat</th>\n",
       "      <th>depth</th>\n",
       "      <th></th>\n",
       "    </tr>\n",
       "  </thead>\n",
       "  <tbody>\n",
       "    <tr>\n",
       "      <th rowspan=\"5\" valign=\"top\">-179.5</th>\n",
       "      <th rowspan=\"5\" valign=\"top\">71.247467</th>\n",
       "      <th>4.500000</th>\n",
       "      <td>2.0</td>\n",
       "    </tr>\n",
       "    <tr>\n",
       "      <th>9.100000</th>\n",
       "      <td>1.0</td>\n",
       "    </tr>\n",
       "    <tr>\n",
       "      <th>16.600000</th>\n",
       "      <td>3.0</td>\n",
       "    </tr>\n",
       "    <tr>\n",
       "      <th>28.900000</th>\n",
       "      <td>2.0</td>\n",
       "    </tr>\n",
       "    <tr>\n",
       "      <th>49.299999</th>\n",
       "      <td>2.0</td>\n",
       "    </tr>\n",
       "    <tr>\n",
       "      <th>...</th>\n",
       "      <th>...</th>\n",
       "      <th>...</th>\n",
       "      <td>...</td>\n",
       "    </tr>\n",
       "    <tr>\n",
       "      <th rowspan=\"5\" valign=\"top\">179.5</th>\n",
       "      <th rowspan=\"5\" valign=\"top\">-18.411257</th>\n",
       "      <th>16.600000</th>\n",
       "      <td>1.0</td>\n",
       "    </tr>\n",
       "    <tr>\n",
       "      <th>28.900000</th>\n",
       "      <td>2.0</td>\n",
       "    </tr>\n",
       "    <tr>\n",
       "      <th>49.299999</th>\n",
       "      <td>2.0</td>\n",
       "    </tr>\n",
       "    <tr>\n",
       "      <th>82.900002</th>\n",
       "      <td>2.0</td>\n",
       "    </tr>\n",
       "    <tr>\n",
       "      <th>138.300003</th>\n",
       "      <td>3.0</td>\n",
       "    </tr>\n",
       "  </tbody>\n",
       "</table>\n",
       "<p>16762449 rows × 1 columns</p>\n",
       "</div>"
      ],
      "text/plain": [
       "                              SOCD\n",
       "lon    lat        depth           \n",
       "-179.5  71.247467 4.500000     2.0\n",
       "                  9.100000     1.0\n",
       "                  16.600000    3.0\n",
       "                  28.900000    2.0\n",
       "                  49.299999    2.0\n",
       "...                            ...\n",
       " 179.5 -18.411257 16.600000    1.0\n",
       "                  28.900000    2.0\n",
       "                  49.299999    2.0\n",
       "                  82.900002    2.0\n",
       "                  138.300003   3.0\n",
       "\n",
       "[16762449 rows x 1 columns]"
      ]
     },
     "execution_count": 28,
     "metadata": {},
     "output_type": "execute_result"
    }
   ],
   "source": [
    "# view the dataframe now, which retains its original indexing, but has only records with values\n",
    "df2"
   ]
  },
  {
   "cell_type": "code",
   "execution_count": 29,
   "id": "a3077dbe",
   "metadata": {},
   "outputs": [
    {
     "data": {
      "text/html": [
       "<div>\n",
       "<style scoped>\n",
       "    .dataframe tbody tr th:only-of-type {\n",
       "        vertical-align: middle;\n",
       "    }\n",
       "\n",
       "    .dataframe tbody tr th {\n",
       "        vertical-align: top;\n",
       "    }\n",
       "\n",
       "    .dataframe thead th {\n",
       "        text-align: right;\n",
       "    }\n",
       "</style>\n",
       "<table border=\"1\" class=\"dataframe\">\n",
       "  <thead>\n",
       "    <tr style=\"text-align: right;\">\n",
       "      <th></th>\n",
       "      <th></th>\n",
       "      <th>SOCD</th>\n",
       "    </tr>\n",
       "    <tr>\n",
       "      <th>lon</th>\n",
       "      <th>lat</th>\n",
       "      <th></th>\n",
       "    </tr>\n",
       "  </thead>\n",
       "  <tbody>\n",
       "    <tr>\n",
       "      <th rowspan=\"5\" valign=\"top\">-179.5</th>\n",
       "      <th>71.247467</th>\n",
       "      <td>12.0</td>\n",
       "    </tr>\n",
       "    <tr>\n",
       "      <th>71.164680</th>\n",
       "      <td>83.0</td>\n",
       "    </tr>\n",
       "    <tr>\n",
       "      <th>71.081894</th>\n",
       "      <td>83.0</td>\n",
       "    </tr>\n",
       "    <tr>\n",
       "      <th>70.999107</th>\n",
       "      <td>91.0</td>\n",
       "    </tr>\n",
       "    <tr>\n",
       "      <th>70.916321</th>\n",
       "      <td>93.0</td>\n",
       "    </tr>\n",
       "    <tr>\n",
       "      <th>...</th>\n",
       "      <th>...</th>\n",
       "      <td>...</td>\n",
       "    </tr>\n",
       "    <tr>\n",
       "      <th rowspan=\"5\" valign=\"top\">179.5</th>\n",
       "      <th>-16.589935</th>\n",
       "      <td>1.0</td>\n",
       "    </tr>\n",
       "    <tr>\n",
       "      <th>-16.672722</th>\n",
       "      <td>22.0</td>\n",
       "    </tr>\n",
       "    <tr>\n",
       "      <th>-16.755508</th>\n",
       "      <td>147.0</td>\n",
       "    </tr>\n",
       "    <tr>\n",
       "      <th>-18.328470</th>\n",
       "      <td>36.0</td>\n",
       "    </tr>\n",
       "    <tr>\n",
       "      <th>-18.411257</th>\n",
       "      <td>12.0</td>\n",
       "    </tr>\n",
       "  </tbody>\n",
       "</table>\n",
       "<p>2167143 rows × 1 columns</p>\n",
       "</div>"
      ],
      "text/plain": [
       "                    SOCD\n",
       "lon    lat              \n",
       "-179.5  71.247467   12.0\n",
       "        71.164680   83.0\n",
       "        71.081894   83.0\n",
       "        70.999107   91.0\n",
       "        70.916321   93.0\n",
       "...                  ...\n",
       " 179.5 -16.589935    1.0\n",
       "       -16.672722   22.0\n",
       "       -16.755508  147.0\n",
       "       -18.328470   36.0\n",
       "       -18.411257   12.0\n",
       "\n",
       "[2167143 rows x 1 columns]"
      ]
     },
     "execution_count": 29,
     "metadata": {},
     "output_type": "execute_result"
    }
   ],
   "source": [
    "# take the sum of SOCD across all depths, for each location, i.e. when \n",
    "# grouped by the first and second level of the index (i.e. by lon then lat)\n",
    "df2.groupby(level=[0,1]).sum()"
   ]
  },
  {
   "cell_type": "code",
   "execution_count": 30,
   "id": "425d6cc4",
   "metadata": {},
   "outputs": [
    {
     "data": {
      "text/html": [
       "<div>\n",
       "<style scoped>\n",
       "    .dataframe tbody tr th:only-of-type {\n",
       "        vertical-align: middle;\n",
       "    }\n",
       "\n",
       "    .dataframe tbody tr th {\n",
       "        vertical-align: top;\n",
       "    }\n",
       "\n",
       "    .dataframe thead th {\n",
       "        text-align: right;\n",
       "    }\n",
       "</style>\n",
       "<table border=\"1\" class=\"dataframe\">\n",
       "  <thead>\n",
       "    <tr style=\"text-align: right;\">\n",
       "      <th></th>\n",
       "      <th>lon</th>\n",
       "      <th>lat</th>\n",
       "      <th>SOCD</th>\n",
       "    </tr>\n",
       "  </thead>\n",
       "  <tbody>\n",
       "    <tr>\n",
       "      <th>0</th>\n",
       "      <td>-179.5</td>\n",
       "      <td>71.247467</td>\n",
       "      <td>12.0</td>\n",
       "    </tr>\n",
       "    <tr>\n",
       "      <th>1</th>\n",
       "      <td>-179.5</td>\n",
       "      <td>71.164680</td>\n",
       "      <td>83.0</td>\n",
       "    </tr>\n",
       "    <tr>\n",
       "      <th>2</th>\n",
       "      <td>-179.5</td>\n",
       "      <td>71.081894</td>\n",
       "      <td>83.0</td>\n",
       "    </tr>\n",
       "    <tr>\n",
       "      <th>3</th>\n",
       "      <td>-179.5</td>\n",
       "      <td>70.999107</td>\n",
       "      <td>91.0</td>\n",
       "    </tr>\n",
       "    <tr>\n",
       "      <th>4</th>\n",
       "      <td>-179.5</td>\n",
       "      <td>70.916321</td>\n",
       "      <td>93.0</td>\n",
       "    </tr>\n",
       "    <tr>\n",
       "      <th>...</th>\n",
       "      <td>...</td>\n",
       "      <td>...</td>\n",
       "      <td>...</td>\n",
       "    </tr>\n",
       "    <tr>\n",
       "      <th>2167138</th>\n",
       "      <td>179.5</td>\n",
       "      <td>-16.589935</td>\n",
       "      <td>1.0</td>\n",
       "    </tr>\n",
       "    <tr>\n",
       "      <th>2167139</th>\n",
       "      <td>179.5</td>\n",
       "      <td>-16.672722</td>\n",
       "      <td>22.0</td>\n",
       "    </tr>\n",
       "    <tr>\n",
       "      <th>2167140</th>\n",
       "      <td>179.5</td>\n",
       "      <td>-16.755508</td>\n",
       "      <td>147.0</td>\n",
       "    </tr>\n",
       "    <tr>\n",
       "      <th>2167141</th>\n",
       "      <td>179.5</td>\n",
       "      <td>-18.328470</td>\n",
       "      <td>36.0</td>\n",
       "    </tr>\n",
       "    <tr>\n",
       "      <th>2167142</th>\n",
       "      <td>179.5</td>\n",
       "      <td>-18.411257</td>\n",
       "      <td>12.0</td>\n",
       "    </tr>\n",
       "  </tbody>\n",
       "</table>\n",
       "<p>2167143 rows × 3 columns</p>\n",
       "</div>"
      ],
      "text/plain": [
       "           lon        lat   SOCD\n",
       "0       -179.5  71.247467   12.0\n",
       "1       -179.5  71.164680   83.0\n",
       "2       -179.5  71.081894   83.0\n",
       "3       -179.5  70.999107   91.0\n",
       "4       -179.5  70.916321   93.0\n",
       "...        ...        ...    ...\n",
       "2167138  179.5 -16.589935    1.0\n",
       "2167139  179.5 -16.672722   22.0\n",
       "2167140  179.5 -16.755508  147.0\n",
       "2167141  179.5 -18.328470   36.0\n",
       "2167142  179.5 -18.411257   12.0\n",
       "\n",
       "[2167143 rows x 3 columns]"
      ]
     },
     "execution_count": 30,
     "metadata": {},
     "output_type": "execute_result"
    }
   ],
   "source": [
    "# add a reset of the index to statement above, i.e.\n",
    "# # take the sum of SOCD across all depths, for each location and index each result separately\n",
    "# with an unnamed index sequentially\n",
    "df2.groupby(level=[0,1]).sum().reset_index()"
   ]
  },
  {
   "cell_type": "markdown",
   "id": "559ce20c",
   "metadata": {},
   "source": [
    "## For mapping, translate to spatial geometry\n",
    "\n",
    "I'll use the GeoPandas package to jump from longitude and latitude columns into a mappable format. In order to try to stay true to the original raw dataset as much as possible, I'll test on the dataframe that includes NA values first to see how GeoPandas handles and displays NA values."
   ]
  },
  {
   "cell_type": "code",
   "execution_count": 38,
   "id": "1b111979",
   "metadata": {},
   "outputs": [],
   "source": [
    "# first try this with NA values left in, to stay true to data source as much as possible, and\n",
    "# first flatten the multiple indexes and reset the index, so that lon, lat will be recognized at keys\n",
    "df = df.groupby(level=[0,1,2]).sum().reset_index()"
   ]
  },
  {
   "cell_type": "code",
   "execution_count": 39,
   "id": "06bcd2fe",
   "metadata": {},
   "outputs": [
    {
     "data": {
      "text/plain": [
       "Index(['lon', 'lat', 'depth', 'SOCD'], dtype='object')"
      ]
     },
     "execution_count": 39,
     "metadata": {},
     "output_type": "execute_result"
    }
   ],
   "source": [
    "# check this dataframe's columns; lon, lat, and depth have been added to columns with SOCD now\n",
    "df.columns"
   ]
  },
  {
   "cell_type": "code",
   "execution_count": 40,
   "id": "750949d3",
   "metadata": {},
   "outputs": [
    {
     "data": {
      "text/plain": [
       "RangeIndex(start=0, stop=58060800, step=1)"
      ]
     },
     "execution_count": 40,
     "metadata": {},
     "output_type": "execute_result"
    }
   ],
   "source": [
    "# view the new index; it's now a sequential index\n",
    "df.index"
   ]
  },
  {
   "cell_type": "code",
   "execution_count": 42,
   "id": "0b690af2",
   "metadata": {},
   "outputs": [
    {
     "name": "stderr",
     "output_type": "stream",
     "text": [
      "/Users/kathrynhurchla/opt/anaconda3/envs/envsoil/lib/python3.9/site-packages/geopandas/array.py:275: ShapelyDeprecationWarning: The array interface is deprecated and will no longer work in Shapely 2.0. Convert the '.coords' to a numpy array instead.\n",
      "  return GeometryArray(vectorized.points_from_xy(x, y, z), crs=crs)\n"
     ]
    }
   ],
   "source": [
    "# translate lon and lat columns into a spatial geometry variable in a GeoPandas dataframe\n",
    "gdf = geopandas.GeoDataFrame(df, geometry=geopandas.points_from_xy(df.lon, df.lat))"
   ]
  },
  {
   "cell_type": "code",
   "execution_count": null,
   "id": "f89275ef",
   "metadata": {},
   "outputs": [],
   "source": [
    "# for the dataframe with NA removed\n",
    "#gdf2 = geopandas.GeoDataFrame(df2, geometry=geopandas.points_from_xy(df2.lon, df2.lat))"
   ]
  }
 ],
 "metadata": {
  "kernelspec": {
   "display_name": "envsoil",
   "language": "python",
   "name": "envsoil"
  },
  "language_info": {
   "codemirror_mode": {
    "name": "ipython",
    "version": 3
   },
   "file_extension": ".py",
   "mimetype": "text/x-python",
   "name": "python",
   "nbconvert_exporter": "python",
   "pygments_lexer": "ipython3",
   "version": "3.9.7"
  }
 },
 "nbformat": 4,
 "nbformat_minor": 5
}
