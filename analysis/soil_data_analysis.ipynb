{
 "cells": [
  {
   "cell_type": "markdown",
   "id": "88d385fd",
   "metadata": {},
   "source": [
    "# SOIL DATA - Troubles finding what to use?!\n",
    "\n",
    "- SSURGO is more detail can I can work with in the timeframe I need it\n",
    "    - USDA NRCS \n",
    "        - https://sdmdataaccess.nrcs.usda.gov/Default.aspx\n",
    "- STATSGO may be too limiting\n",
    "    - USDA NRCS (shares tables in data source as above)\n",
    "- How about The Global Soil Dataset for Earth System Modeling\n",
    "    - Land-Atmosphere Interaction Research Group at Sun Yat-sen University\n",
    "        - http://globalchange.bnu.edu.cn/research/soilwd.jsp"
   ]
  },
  {
   "cell_type": "markdown",
   "id": "0fba94f0",
   "metadata": {},
   "source": [
    "## Explore Soil Organic Carbon Density in The Global Soil Dataset\n",
    "\n",
    "_I've already done quite a bit of noodling around the USDA data in other notebooks so I'll take a look at whether this one will fit my needs better (and my timeframe and level of pre-aggregation and simplification desired)._\n",
    "\n",
    "### Load the NetCDF \n",
    "\n",
    "Network common data form (NetCDF) is commonly used to store multidimensional geographic data, and especially common with geographic time series data. I'll load the 5 minute geospatial resolution version of the Soil organic carbon density (SOCD5min.zip) NetCDF file in after downloading it from The Global Soil Dataset."
   ]
  },
  {
   "cell_type": "code",
   "execution_count": 60,
   "id": "28f82943",
   "metadata": {},
   "outputs": [],
   "source": [
    "# import package dependencies for environment\n",
    "import netCDF4 as nc\n",
    "import numpy as np\n",
    "import pandas as pd\n",
    "import matplotlib.pyplot as plt"
   ]
  },
  {
   "cell_type": "code",
   "execution_count": 61,
   "id": "c18533be",
   "metadata": {},
   "outputs": [
    {
     "name": "stdout",
     "output_type": "stream",
     "text": [
      "/Users/kathrynhurchla/Documents/GitHub/soil-health-risk-and-climate-change/analysis\r\n"
     ]
    }
   ],
   "source": [
    "# check working directory using Shell command in IPython syntax preceded by '!'\n",
    "!pwd"
   ]
  },
  {
   "cell_type": "code",
   "execution_count": 62,
   "id": "1a654953",
   "metadata": {},
   "outputs": [
    {
     "name": "stdout",
     "output_type": "stream",
     "text": [
      "soil_data_analysis.ipynb           soil_data_analysis_STATSGO.Rmd\r\n",
      "soil_data_analysis_SSURGO.R        soil_data_analysis_STATSGO.nb.html\r\n"
     ]
    }
   ],
   "source": [
    "# list directory contents\n",
    "!ls"
   ]
  },
  {
   "cell_type": "code",
   "execution_count": 63,
   "id": "1290467f",
   "metadata": {},
   "outputs": [
    {
     "name": "stdout",
     "output_type": "stream",
     "text": [
      "LICENSE\r\n",
      "README.md\r\n",
      "Style_Tile_soil_health_and_climate_change.ai\r\n",
      "\u001b[34manalysis\u001b[m\u001b[m\r\n",
      "\u001b[34mdata\u001b[m\u001b[m\r\n",
      "\u001b[34mdocs\u001b[m\u001b[m\r\n",
      "\u001b[34mimg\u001b[m\u001b[m\r\n",
      "\u001b[34moutput\u001b[m\u001b[m\r\n",
      "\u001b[34mresearch\u001b[m\u001b[m\r\n"
     ]
    }
   ],
   "source": [
    "# can I see my data folder in the root directory of my project \n",
    "# (i.e. in the parent of current analysis/notebooks folder working directory)?\n",
    "#!echo ../*/ #alternately\n",
    "!ls .."
   ]
  },
  {
   "cell_type": "code",
   "execution_count": 64,
   "id": "d4ffea61",
   "metadata": {},
   "outputs": [
    {
     "name": "stdout",
     "output_type": "stream",
     "text": [
      "SOCD5min.nc\r\n",
      "SOCD5min.zip\r\n",
      "USDA_Soil_Data_Access_Table_Relationships.csv\r\n",
      "ipcc_efdb_cat3B2_CH4_CO2_N2O_output.xls\r\n",
      "ipcc_efdb_cat3_CH4_CO2_N2O_output.xls\r\n"
     ]
    }
   ],
   "source": [
    "# now can I see the files in my data folder?\n",
    "!ls ../data"
   ]
  },
  {
   "cell_type": "code",
   "execution_count": 65,
   "id": "94fe973a",
   "metadata": {},
   "outputs": [
    {
     "name": "stdout",
     "output_type": "stream",
     "text": [
      "<class 'netCDF4._netCDF4.Dataset'>\n",
      "root group (NETCDF3_CLASSIC data model, file format NETCDF3):\n",
      "    Conventions: CF-1.0\n",
      "    dimensions(sizes): lon(4320), lat(1680), depth(8)\n",
      "    variables(dimensions): float32 lon(lon), float32 lat(lat), float32 depth(depth), int16 SOCD(depth, lat, lon)\n",
      "    groups: \n"
     ]
    }
   ],
   "source": [
    "# Great! Now I've checked and copied the filename from right here in my Notebook!\n",
    "# load NetCDF .nc file using the netcdf4 package (note can also be done using gdal package)\n",
    "fn = '../data/SOCD5min.nc' # relative path to netcdf file\n",
    "ds = nc.Dataset(fn) # read as netcdf dataset\n",
    "# view info about the variables\n",
    "print(ds)\n",
    "# print(ds.__dict__) #alternately print metadata as a Python dictionary"
   ]
  },
  {
   "cell_type": "code",
   "execution_count": 66,
   "id": "f008ba1e",
   "metadata": {},
   "outputs": [
    {
     "name": "stdout",
     "output_type": "stream",
     "text": [
      "<class 'netCDF4._netCDF4.Variable'>\n",
      "int16 SOCD(depth, lat, lon)\n",
      "    missing_value: -999\n",
      "    units: t/ha\n",
      "    long_name: soil organic carban density\n",
      "unlimited dimensions: \n",
      "current shape = (8, 1680, 4320)\n",
      "filling on, default _FillValue of -32767 used\n"
     ]
    }
   ],
   "source": [
    "# access information about the single specific variable metadata (that is not a dimension) \n",
    "# SOCD is Soil Organic Carbon Density\n",
    "# measured and recorded in t/ha (tonnes per hectare)\n",
    "print(ds['SOCD'])"
   ]
  },
  {
   "cell_type": "code",
   "execution_count": 67,
   "id": "2797518b",
   "metadata": {},
   "outputs": [
    {
     "name": "stdout",
     "output_type": "stream",
     "text": [
      "{'lon': <class 'netCDF4._netCDF4.Dimension'>: name = 'lon', size = 4320, 'lat': <class 'netCDF4._netCDF4.Dimension'>: name = 'lat', size = 1680, 'depth': <class 'netCDF4._netCDF4.Dimension'>: name = 'depth', size = 8}\n"
     ]
    }
   ],
   "source": [
    "# just print dimensions as a python dictionary\n",
    "print(ds.dimensions)"
   ]
  },
  {
   "cell_type": "code",
   "execution_count": 68,
   "id": "5ba04b08",
   "metadata": {},
   "outputs": [
    {
     "data": {
      "text/plain": [
       "masked_array(\n",
       "  data=[[[--, --, --, ..., --, --, --],\n",
       "         [--, --, --, ..., --, --, --],\n",
       "         [--, --, --, ..., --, --, --],\n",
       "         ...,\n",
       "         [--, --, --, ..., --, --, --],\n",
       "         [--, --, --, ..., --, --, --],\n",
       "         [--, --, --, ..., --, --, --]],\n",
       "\n",
       "        [[--, --, --, ..., --, --, --],\n",
       "         [--, --, --, ..., --, --, --],\n",
       "         [--, --, --, ..., --, --, --],\n",
       "         ...,\n",
       "         [--, --, --, ..., --, --, --],\n",
       "         [--, --, --, ..., --, --, --],\n",
       "         [--, --, --, ..., --, --, --]],\n",
       "\n",
       "        [[--, --, --, ..., --, --, --],\n",
       "         [--, --, --, ..., --, --, --],\n",
       "         [--, --, --, ..., --, --, --],\n",
       "         ...,\n",
       "         [--, --, --, ..., --, --, --],\n",
       "         [--, --, --, ..., --, --, --],\n",
       "         [--, --, --, ..., --, --, --]],\n",
       "\n",
       "        ...,\n",
       "\n",
       "        [[--, --, --, ..., --, --, --],\n",
       "         [--, --, --, ..., --, --, --],\n",
       "         [--, --, --, ..., --, --, --],\n",
       "         ...,\n",
       "         [--, --, --, ..., --, --, --],\n",
       "         [--, --, --, ..., --, --, --],\n",
       "         [--, --, --, ..., --, --, --]],\n",
       "\n",
       "        [[--, --, --, ..., --, --, --],\n",
       "         [--, --, --, ..., --, --, --],\n",
       "         [--, --, --, ..., --, --, --],\n",
       "         ...,\n",
       "         [--, --, --, ..., --, --, --],\n",
       "         [--, --, --, ..., --, --, --],\n",
       "         [--, --, --, ..., --, --, --]],\n",
       "\n",
       "        [[--, --, --, ..., --, --, --],\n",
       "         [--, --, --, ..., --, --, --],\n",
       "         [--, --, --, ..., --, --, --],\n",
       "         ...,\n",
       "         [--, --, --, ..., --, --, --],\n",
       "         [--, --, --, ..., --, --, --],\n",
       "         [--, --, --, ..., --, --, --]]],\n",
       "  mask=[[[ True,  True,  True, ...,  True,  True,  True],\n",
       "         [ True,  True,  True, ...,  True,  True,  True],\n",
       "         [ True,  True,  True, ...,  True,  True,  True],\n",
       "         ...,\n",
       "         [ True,  True,  True, ...,  True,  True,  True],\n",
       "         [ True,  True,  True, ...,  True,  True,  True],\n",
       "         [ True,  True,  True, ...,  True,  True,  True]],\n",
       "\n",
       "        [[ True,  True,  True, ...,  True,  True,  True],\n",
       "         [ True,  True,  True, ...,  True,  True,  True],\n",
       "         [ True,  True,  True, ...,  True,  True,  True],\n",
       "         ...,\n",
       "         [ True,  True,  True, ...,  True,  True,  True],\n",
       "         [ True,  True,  True, ...,  True,  True,  True],\n",
       "         [ True,  True,  True, ...,  True,  True,  True]],\n",
       "\n",
       "        [[ True,  True,  True, ...,  True,  True,  True],\n",
       "         [ True,  True,  True, ...,  True,  True,  True],\n",
       "         [ True,  True,  True, ...,  True,  True,  True],\n",
       "         ...,\n",
       "         [ True,  True,  True, ...,  True,  True,  True],\n",
       "         [ True,  True,  True, ...,  True,  True,  True],\n",
       "         [ True,  True,  True, ...,  True,  True,  True]],\n",
       "\n",
       "        ...,\n",
       "\n",
       "        [[ True,  True,  True, ...,  True,  True,  True],\n",
       "         [ True,  True,  True, ...,  True,  True,  True],\n",
       "         [ True,  True,  True, ...,  True,  True,  True],\n",
       "         ...,\n",
       "         [ True,  True,  True, ...,  True,  True,  True],\n",
       "         [ True,  True,  True, ...,  True,  True,  True],\n",
       "         [ True,  True,  True, ...,  True,  True,  True]],\n",
       "\n",
       "        [[ True,  True,  True, ...,  True,  True,  True],\n",
       "         [ True,  True,  True, ...,  True,  True,  True],\n",
       "         [ True,  True,  True, ...,  True,  True,  True],\n",
       "         ...,\n",
       "         [ True,  True,  True, ...,  True,  True,  True],\n",
       "         [ True,  True,  True, ...,  True,  True,  True],\n",
       "         [ True,  True,  True, ...,  True,  True,  True]],\n",
       "\n",
       "        [[ True,  True,  True, ...,  True,  True,  True],\n",
       "         [ True,  True,  True, ...,  True,  True,  True],\n",
       "         [ True,  True,  True, ...,  True,  True,  True],\n",
       "         ...,\n",
       "         [ True,  True,  True, ...,  True,  True,  True],\n",
       "         [ True,  True,  True, ...,  True,  True,  True],\n",
       "         [ True,  True,  True, ...,  True,  True,  True]]],\n",
       "  fill_value=-999,\n",
       "  dtype=int16)"
      ]
     },
     "execution_count": 68,
     "metadata": {},
     "output_type": "execute_result"
    }
   ],
   "source": [
    "socd"
   ]
  },
  {
   "cell_type": "code",
   "execution_count": 69,
   "id": "591d05b3",
   "metadata": {},
   "outputs": [
    {
     "data": {
      "text/plain": [
       "numpy.ma.core.MaskedArray"
      ]
     },
     "execution_count": 69,
     "metadata": {},
     "output_type": "execute_result"
    }
   ],
   "source": [
    "# check the type of the new named variable socd\n",
    "type(socd)"
   ]
  },
  {
   "cell_type": "code",
   "execution_count": 70,
   "id": "e56ca53a",
   "metadata": {},
   "outputs": [
    {
     "name": "stdout",
     "output_type": "stream",
     "text": [
      "[[[-- -- -- ... -- -- --]\n",
      "  [-- -- -- ... -- -- --]\n",
      "  [-- -- -- ... -- -- --]\n",
      "  ...\n",
      "  [-- -- -- ... -- -- --]\n",
      "  [-- -- -- ... -- -- --]\n",
      "  [-- -- -- ... -- -- --]]\n",
      "\n",
      " [[-- -- -- ... -- -- --]\n",
      "  [-- -- -- ... -- -- --]\n",
      "  [-- -- -- ... -- -- --]\n",
      "  ...\n",
      "  [-- -- -- ... -- -- --]\n",
      "  [-- -- -- ... -- -- --]\n",
      "  [-- -- -- ... -- -- --]]\n",
      "\n",
      " [[-- -- -- ... -- -- --]\n",
      "  [-- -- -- ... -- -- --]\n",
      "  [-- -- -- ... -- -- --]\n",
      "  ...\n",
      "  [-- -- -- ... -- -- --]\n",
      "  [-- -- -- ... -- -- --]\n",
      "  [-- -- -- ... -- -- --]]\n",
      "\n",
      " ...\n",
      "\n",
      " [[-- -- -- ... -- -- --]\n",
      "  [-- -- -- ... -- -- --]\n",
      "  [-- -- -- ... -- -- --]\n",
      "  ...\n",
      "  [-- -- -- ... -- -- --]\n",
      "  [-- -- -- ... -- -- --]\n",
      "  [-- -- -- ... -- -- --]]\n",
      "\n",
      " [[-- -- -- ... -- -- --]\n",
      "  [-- -- -- ... -- -- --]\n",
      "  [-- -- -- ... -- -- --]\n",
      "  ...\n",
      "  [-- -- -- ... -- -- --]\n",
      "  [-- -- -- ... -- -- --]\n",
      "  [-- -- -- ... -- -- --]]\n",
      "\n",
      " [[-- -- -- ... -- -- --]\n",
      "  [-- -- -- ... -- -- --]\n",
      "  [-- -- -- ... -- -- --]\n",
      "  ...\n",
      "  [-- -- -- ... -- -- --]\n",
      "  [-- -- -- ... -- -- --]\n",
      "  [-- -- -- ... -- -- --]]]\n"
     ]
    }
   ],
   "source": [
    "# access the data values just like a numpy array\n",
    "socd = ds['SOCD'][:]\n",
    "print(socd)"
   ]
  },
  {
   "cell_type": "code",
   "execution_count": 71,
   "id": "a6906bb1",
   "metadata": {},
   "outputs": [
    {
     "data": {
      "text/plain": [
       "(8, 1680, 4320)"
      ]
     },
     "execution_count": 71,
     "metadata": {},
     "output_type": "execute_result"
    }
   ],
   "source": [
    "# see the shape of the array\n",
    "socd.shape"
   ]
  },
  {
   "cell_type": "code",
   "execution_count": 72,
   "id": "35001ed1",
   "metadata": {},
   "outputs": [
    {
     "data": {
      "text/plain": [
       "masked"
      ]
     },
     "execution_count": 72,
     "metadata": {},
     "output_type": "execute_result"
    }
   ],
   "source": [
    "# view an element about midway through\n",
    "socd[0, 1000, 1000]"
   ]
  },
  {
   "cell_type": "code",
   "execution_count": 73,
   "id": "b73e01ac",
   "metadata": {},
   "outputs": [
    {
     "data": {
      "text/plain": [
       "masked"
      ]
     },
     "execution_count": 73,
     "metadata": {},
     "output_type": "execute_result"
    }
   ],
   "source": [
    "# try another\n",
    "socd[0, 0, 0]"
   ]
  },
  {
   "cell_type": "code",
   "execution_count": 74,
   "id": "8a737e00",
   "metadata": {},
   "outputs": [
    {
     "ename": "SyntaxError",
     "evalue": "invalid syntax (2995376633.py, line 3)",
     "output_type": "error",
     "traceback": [
      "\u001b[0;36m  File \u001b[0;32m\"/var/folders/yl/cmk7gt492252lhxv4dwq5q280000gn/T/ipykernel_21635/2995376633.py\"\u001b[0;36m, line \u001b[0;32m3\u001b[0m\n\u001b[0;31m    socd_unmasked_all = socd[~socd.mask.all[axis=1]]\u001b[0m\n\u001b[0m                                                ^\u001b[0m\n\u001b[0;31mSyntaxError\u001b[0m\u001b[0;31m:\u001b[0m invalid syntax\n"
     ]
    }
   ],
   "source": [
    "# get the non-masked data, specifically by removing rows with all masked data\n",
    "# returns invlid syntax error on the axis=1\n",
    "socd_unmasked_all = socd[~socd.mask.all[axis=1]]"
   ]
  },
  {
   "cell_type": "code",
   "execution_count": null,
   "id": "4f966503",
   "metadata": {},
   "outputs": [],
   "source": [
    "# the compressed method will remove masked items, but flattens the result to a 1 dimensional array\n",
    "# so I fear I've lost the location dimensions that way\n",
    "# socd_compressed = socd.compressed()\n",
    "# print(socd_compressed)\n",
    "# socd_compressed.shape"
   ]
  },
  {
   "cell_type": "code",
   "execution_count": 82,
   "id": "baac9e79",
   "metadata": {},
   "outputs": [
    {
     "data": {
      "text/plain": [
       "masked_array(\n",
       "  data=[[--],\n",
       "        [--],\n",
       "        [--],\n",
       "        [--],\n",
       "        [--],\n",
       "        [--],\n",
       "        [--],\n",
       "        [--],\n",
       "        [--],\n",
       "        [--],\n",
       "        [--],\n",
       "        [--],\n",
       "        [--],\n",
       "        [--],\n",
       "        [--],\n",
       "        [--],\n",
       "        [--],\n",
       "        [--],\n",
       "        [--],\n",
       "        [--],\n",
       "        [--],\n",
       "        [--],\n",
       "        [--],\n",
       "        [--],\n",
       "        [--],\n",
       "        [--],\n",
       "        [--],\n",
       "        [--],\n",
       "        [--],\n",
       "        [--],\n",
       "        [--],\n",
       "        [--],\n",
       "        [--],\n",
       "        [--],\n",
       "        [--],\n",
       "        [--],\n",
       "        [--],\n",
       "        [--],\n",
       "        [--],\n",
       "        [--],\n",
       "        [--],\n",
       "        [--],\n",
       "        [--],\n",
       "        [--],\n",
       "        [--],\n",
       "        [--],\n",
       "        [--],\n",
       "        [--],\n",
       "        [--],\n",
       "        [--],\n",
       "        [--],\n",
       "        [--],\n",
       "        [--],\n",
       "        [--],\n",
       "        [--],\n",
       "        [--],\n",
       "        [--],\n",
       "        [--],\n",
       "        [--],\n",
       "        [--],\n",
       "        [--],\n",
       "        [--],\n",
       "        [--],\n",
       "        [--],\n",
       "        [--],\n",
       "        [--],\n",
       "        [--],\n",
       "        [--],\n",
       "        [--],\n",
       "        [--],\n",
       "        [--],\n",
       "        [--],\n",
       "        [--],\n",
       "        [--],\n",
       "        [--],\n",
       "        [--],\n",
       "        [--],\n",
       "        [--],\n",
       "        [--],\n",
       "        [--],\n",
       "        [--],\n",
       "        [--],\n",
       "        [--],\n",
       "        [--],\n",
       "        [--],\n",
       "        [--],\n",
       "        [--],\n",
       "        [--],\n",
       "        [--],\n",
       "        [--],\n",
       "        [--],\n",
       "        [--],\n",
       "        [--],\n",
       "        [--],\n",
       "        [--],\n",
       "        [--],\n",
       "        [--],\n",
       "        [--],\n",
       "        [--],\n",
       "        [--]],\n",
       "  mask=[[ True],\n",
       "        [ True],\n",
       "        [ True],\n",
       "        ...,\n",
       "        [ True],\n",
       "        [ True],\n",
       "        [ True]],\n",
       "  fill_value=-999,\n",
       "  dtype=int16)"
      ]
     },
     "execution_count": 82,
     "metadata": {},
     "output_type": "execute_result"
    }
   ],
   "source": [
    "# reshape the masked array to 2D, so it can be made into a dataframe\n",
    "socd.reshape(-1, 1)"
   ]
  },
  {
   "cell_type": "code",
   "execution_count": 81,
   "id": "49b451c8",
   "metadata": {},
   "outputs": [
    {
     "ename": "ValueError",
     "evalue": "Must pass 2-d input. shape=(8, 1680, 4320)",
     "output_type": "error",
     "traceback": [
      "\u001b[0;31m---------------------------------------------------------------------------\u001b[0m",
      "\u001b[0;31mValueError\u001b[0m                                Traceback (most recent call last)",
      "\u001b[0;32m/var/folders/yl/cmk7gt492252lhxv4dwq5q280000gn/T/ipykernel_21635/3183096217.py\u001b[0m in \u001b[0;36m<module>\u001b[0;34m\u001b[0m\n\u001b[1;32m      1\u001b[0m \u001b[0;31m# I'll try to change the masked array to a pandas dataframe, and\u001b[0m\u001b[0;34m\u001b[0m\u001b[0;34m\u001b[0m\u001b[0m\n\u001b[1;32m      2\u001b[0m \u001b[0;31m# call the numpy.ma.filled option during this in order to applly the default fill value -999 to the masked values\u001b[0m\u001b[0;34m\u001b[0m\u001b[0;34m\u001b[0m\u001b[0m\n\u001b[0;32m----> 3\u001b[0;31m \u001b[0mdf\u001b[0m \u001b[0;34m=\u001b[0m \u001b[0mpd\u001b[0m\u001b[0;34m.\u001b[0m\u001b[0mDataFrame\u001b[0m\u001b[0;34m(\u001b[0m\u001b[0mnp\u001b[0m\u001b[0;34m.\u001b[0m\u001b[0mma\u001b[0m\u001b[0;34m.\u001b[0m\u001b[0mfilled\u001b[0m\u001b[0;34m(\u001b[0m\u001b[0msocd\u001b[0m\u001b[0;34m)\u001b[0m\u001b[0;34m,\u001b[0m \u001b[0mcolumns\u001b[0m\u001b[0;34m=\u001b[0m\u001b[0;34m[\u001b[0m\u001b[0;34m'lon'\u001b[0m\u001b[0;34m,\u001b[0m \u001b[0;34m'lat'\u001b[0m\u001b[0;34m,\u001b[0m \u001b[0;34m'depth'\u001b[0m\u001b[0;34m]\u001b[0m\u001b[0;34m)\u001b[0m\u001b[0;34m\u001b[0m\u001b[0;34m\u001b[0m\u001b[0m\n\u001b[0m",
      "\u001b[0;32m~/opt/anaconda3/envs/envsoil/lib/python3.9/site-packages/pandas/core/frame.py\u001b[0m in \u001b[0;36m__init__\u001b[0;34m(self, data, index, columns, dtype, copy)\u001b[0m\n\u001b[1;32m    670\u001b[0m                 )\n\u001b[1;32m    671\u001b[0m             \u001b[0;32melse\u001b[0m\u001b[0;34m:\u001b[0m\u001b[0;34m\u001b[0m\u001b[0;34m\u001b[0m\u001b[0m\n\u001b[0;32m--> 672\u001b[0;31m                 mgr = ndarray_to_mgr(\n\u001b[0m\u001b[1;32m    673\u001b[0m                     \u001b[0mdata\u001b[0m\u001b[0;34m,\u001b[0m\u001b[0;34m\u001b[0m\u001b[0;34m\u001b[0m\u001b[0m\n\u001b[1;32m    674\u001b[0m                     \u001b[0mindex\u001b[0m\u001b[0;34m,\u001b[0m\u001b[0;34m\u001b[0m\u001b[0;34m\u001b[0m\u001b[0m\n",
      "\u001b[0;32m~/opt/anaconda3/envs/envsoil/lib/python3.9/site-packages/pandas/core/internals/construction.py\u001b[0m in \u001b[0;36mndarray_to_mgr\u001b[0;34m(values, index, columns, dtype, copy, typ)\u001b[0m\n\u001b[1;32m    302\u001b[0m         \u001b[0;31m# by definition an array here\u001b[0m\u001b[0;34m\u001b[0m\u001b[0;34m\u001b[0m\u001b[0m\n\u001b[1;32m    303\u001b[0m         \u001b[0;31m# the dtypes will be coerced to a single dtype\u001b[0m\u001b[0;34m\u001b[0m\u001b[0;34m\u001b[0m\u001b[0m\n\u001b[0;32m--> 304\u001b[0;31m         \u001b[0mvalues\u001b[0m \u001b[0;34m=\u001b[0m \u001b[0m_prep_ndarray\u001b[0m\u001b[0;34m(\u001b[0m\u001b[0mvalues\u001b[0m\u001b[0;34m,\u001b[0m \u001b[0mcopy\u001b[0m\u001b[0;34m=\u001b[0m\u001b[0mcopy\u001b[0m\u001b[0;34m)\u001b[0m\u001b[0;34m\u001b[0m\u001b[0;34m\u001b[0m\u001b[0m\n\u001b[0m\u001b[1;32m    305\u001b[0m \u001b[0;34m\u001b[0m\u001b[0m\n\u001b[1;32m    306\u001b[0m     \u001b[0;32mif\u001b[0m \u001b[0mdtype\u001b[0m \u001b[0;32mis\u001b[0m \u001b[0;32mnot\u001b[0m \u001b[0;32mNone\u001b[0m \u001b[0;32mand\u001b[0m \u001b[0;32mnot\u001b[0m \u001b[0mis_dtype_equal\u001b[0m\u001b[0;34m(\u001b[0m\u001b[0mvalues\u001b[0m\u001b[0;34m.\u001b[0m\u001b[0mdtype\u001b[0m\u001b[0;34m,\u001b[0m \u001b[0mdtype\u001b[0m\u001b[0;34m)\u001b[0m\u001b[0;34m:\u001b[0m\u001b[0;34m\u001b[0m\u001b[0;34m\u001b[0m\u001b[0m\n",
      "\u001b[0;32m~/opt/anaconda3/envs/envsoil/lib/python3.9/site-packages/pandas/core/internals/construction.py\u001b[0m in \u001b[0;36m_prep_ndarray\u001b[0;34m(values, copy)\u001b[0m\n\u001b[1;32m    553\u001b[0m         \u001b[0mvalues\u001b[0m \u001b[0;34m=\u001b[0m \u001b[0mvalues\u001b[0m\u001b[0;34m.\u001b[0m\u001b[0mreshape\u001b[0m\u001b[0;34m(\u001b[0m\u001b[0;34m(\u001b[0m\u001b[0mvalues\u001b[0m\u001b[0;34m.\u001b[0m\u001b[0mshape\u001b[0m\u001b[0;34m[\u001b[0m\u001b[0;36m0\u001b[0m\u001b[0;34m]\u001b[0m\u001b[0;34m,\u001b[0m \u001b[0;36m1\u001b[0m\u001b[0;34m)\u001b[0m\u001b[0;34m)\u001b[0m\u001b[0;34m\u001b[0m\u001b[0;34m\u001b[0m\u001b[0m\n\u001b[1;32m    554\u001b[0m     \u001b[0;32melif\u001b[0m \u001b[0mvalues\u001b[0m\u001b[0;34m.\u001b[0m\u001b[0mndim\u001b[0m \u001b[0;34m!=\u001b[0m \u001b[0;36m2\u001b[0m\u001b[0;34m:\u001b[0m\u001b[0;34m\u001b[0m\u001b[0;34m\u001b[0m\u001b[0m\n\u001b[0;32m--> 555\u001b[0;31m         \u001b[0;32mraise\u001b[0m \u001b[0mValueError\u001b[0m\u001b[0;34m(\u001b[0m\u001b[0;34mf\"Must pass 2-d input. shape={values.shape}\"\u001b[0m\u001b[0;34m)\u001b[0m\u001b[0;34m\u001b[0m\u001b[0;34m\u001b[0m\u001b[0m\n\u001b[0m\u001b[1;32m    556\u001b[0m \u001b[0;34m\u001b[0m\u001b[0m\n\u001b[1;32m    557\u001b[0m     \u001b[0;32mreturn\u001b[0m \u001b[0mvalues\u001b[0m\u001b[0;34m\u001b[0m\u001b[0;34m\u001b[0m\u001b[0m\n",
      "\u001b[0;31mValueError\u001b[0m: Must pass 2-d input. shape=(8, 1680, 4320)"
     ]
    }
   ],
   "source": [
    "# I'll try to change the masked array to a pandas dataframe, and\n",
    "# call the numpy.ma.filled option during this in order to applly the default fill value -999 to the masked values\n",
    "df = pd.DataFrame(np.ma.filled(socd), columns=['lon', 'lat', 'depth'])\n"
   ]
  }
 ],
 "metadata": {
  "kernelspec": {
   "display_name": "envsoil",
   "language": "python",
   "name": "envsoil"
  },
  "language_info": {
   "codemirror_mode": {
    "name": "ipython",
    "version": 3
   },
   "file_extension": ".py",
   "mimetype": "text/x-python",
   "name": "python",
   "nbconvert_exporter": "python",
   "pygments_lexer": "ipython3",
   "version": "3.9.7"
  }
 },
 "nbformat": 4,
 "nbformat_minor": 5
}
